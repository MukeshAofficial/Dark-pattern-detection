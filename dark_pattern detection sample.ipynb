{
  "nbformat": 4,
  "nbformat_minor": 0,
  "metadata": {
    "colab": {
      "provenance": [],
      "authorship_tag": "ABX9TyMmogKRTvbhQHNDqDuwpa7F",
      "include_colab_link": true
    },
    "kernelspec": {
      "name": "python3",
      "display_name": "Python 3"
    },
    "language_info": {
      "name": "python"
    }
  },
  "cells": [
    {
      "cell_type": "markdown",
      "metadata": {
        "id": "view-in-github",
        "colab_type": "text"
      },
      "source": [
        "<a href=\"https://colab.research.google.com/github/MukeshAofficial/Dark-pattern-detection/blob/main/dark_pattern%20detection%20sample.ipynb\" target=\"_parent\"><img src=\"https://colab.research.google.com/assets/colab-badge.svg\" alt=\"Open In Colab\"/></a>"
      ]
    },
    {
      "cell_type": "code",
      "execution_count": 1,
      "metadata": {
        "colab": {
          "base_uri": "https://localhost:8080/"
        },
        "id": "n-wP7aIaxqYV",
        "outputId": "d2054d52-fc3e-40d8-e24c-e57953b85e35"
      },
      "outputs": [
        {
          "output_type": "stream",
          "name": "stdout",
          "text": [
            "No hidden costs detected.\n"
          ]
        }
      ],
      "source": [
        "import requests\n",
        "from bs4 import BeautifulSoup\n",
        "\n",
        "def check_hidden_costs(url):\n",
        "    try:\n",
        "        response = requests.get(url)\n",
        "        response.raise_for_status()\n",
        "\n",
        "        soup = BeautifulSoup(response.content, 'html.parser')\n",
        "\n",
        "        hidden_elements = soup.find_all(class_='hidden-cost')\n",
        "\n",
        "        if hidden_elements:\n",
        "            print(\"Hidden costs found!\")\n",
        "        else:\n",
        "            print(\"No hidden costs detected.\")\n",
        "\n",
        "    except requests.exceptions.RequestException as e:\n",
        "        print(f\"Error: {e}\")\n",
        "\n",
        "# Example usage\n",
        "url_to_check = \"https://www.amazon.in/\"\n",
        "check_hidden_costs(url_to_check)\n"
      ]
    },
    {
      "cell_type": "code",
      "source": [],
      "metadata": {
        "id": "bNNAnzlxx_O1"
      },
      "execution_count": null,
      "outputs": []
    },
    {
      "cell_type": "code",
      "source": [
        "import requests\n",
        "from bs4 import BeautifulSoup\n",
        "\n",
        "def detect_subscription_trap(url):\n",
        "    try:\n",
        "        response = requests.get(url)\n",
        "        response.raise_for_status()\n",
        "\n",
        "        soup = BeautifulSoup(response.content, 'html.parser')\n",
        "\n",
        "        # Example: Detect subscription-related terms in the fine print\n",
        "        subscription_terms = soup.find_all(text=lambda text: 'subscription' in text.lower())\n",
        "\n",
        "        if subscription_terms:\n",
        "            print(\"Potential subscription trap detected - Subscription terms found!\")\n",
        "        else:\n",
        "            print(\"No potential subscription trap detected.\")\n",
        "\n",
        "    except requests.exceptions.RequestException as e:\n",
        "        print(f\"Error: {e}\")\n",
        "\n",
        "# Example usage\n",
        "url_to_check = \"https://www.amazon.in/\"\n",
        "detect_subscription_trap(url_to_check)\n"
      ],
      "metadata": {
        "colab": {
          "base_uri": "https://localhost:8080/"
        },
        "id": "HfU5XaKfxuiR",
        "outputId": "5f50eed0-6405-4bee-d8d5-6cb93615f473"
      },
      "execution_count": null,
      "outputs": [
        {
          "output_type": "stream",
          "name": "stdout",
          "text": [
            "Potential subscription trap detected - Subscription terms found!\n"
          ]
        },
        {
          "output_type": "stream",
          "name": "stderr",
          "text": [
            "<ipython-input-5-ca794f5b4de2>:12: DeprecationWarning: The 'text' argument to find()-type methods is deprecated. Use 'string' instead.\n",
            "  subscription_terms = soup.find_all(text=lambda text: 'subscription' in text.lower())\n"
          ]
        }
      ]
    },
    {
      "cell_type": "code",
      "source": [
        "import requests\n",
        "from bs4 import BeautifulSoup\n",
        "\n",
        "def detect_disguised_advertisement(url):\n",
        "    try:\n",
        "        response = requests.get(url)\n",
        "        response.raise_for_status()\n",
        "\n",
        "        soup = BeautifulSoup(response.content, 'html.parser')\n",
        "\n",
        "        # Example: Detect elements with ad-related classes\n",
        "        ad_elements = soup.find_all(class_='ad-related-class')\n",
        "\n",
        "        if ad_elements:\n",
        "            print(\"Potential disguised advertisement detected - Ad-related elements found!\")\n",
        "        else:\n",
        "            print(\"No potential disguised advertisement detected.\")\n",
        "\n",
        "    except requests.exceptions.RequestException as e:\n",
        "        print(f\"Error: {e}\")\n",
        "\n",
        "# Example usage\n",
        "url_to_check = \"https://www.amazon.in/\"\n",
        "detect_disguised_advertisement(url_to_check)\n"
      ],
      "metadata": {
        "colab": {
          "base_uri": "https://localhost:8080/"
        },
        "id": "hY5eCZ6Xx8ZW",
        "outputId": "ec2844db-068f-475e-e5c2-caa37398f162"
      },
      "execution_count": null,
      "outputs": [
        {
          "output_type": "stream",
          "name": "stdout",
          "text": [
            "No potential disguised advertisement detected.\n"
          ]
        }
      ]
    },
    {
      "cell_type": "code",
      "source": [
        "import requests\n",
        "from bs4 import BeautifulSoup\n",
        "\n",
        "def detect_false_urgency(url):\n",
        "    try:\n",
        "        response = requests.get(url)\n",
        "        response.raise_for_status()\n",
        "\n",
        "        soup = BeautifulSoup(response.content, 'html.parser')\n",
        "\n",
        "        # Example: Detect elements with urgent messages or countdowns\n",
        "        urgency_elements = soup.find_all(class_='urgent-class')\n",
        "\n",
        "        if urgency_elements:\n",
        "            print(\"Potential false urgency detected - Urgent elements found!\")\n",
        "        else:\n",
        "            print(\"No potential false urgency detected.\")\n",
        "\n",
        "    except requests.exceptions.RequestException as e:\n",
        "        print(f\"Error: {e}\")\n",
        "\n",
        "# Example usage\n",
        "url_to_check = \"https://www.amazon.in/\"\n",
        "detect_false_urgency(url_to_check)\n"
      ],
      "metadata": {
        "colab": {
          "base_uri": "https://localhost:8080/"
        },
        "id": "HNw1hcMrzJWa",
        "outputId": "0a9a8fc8-ad6e-42b4-9e02-ee6ef3182006"
      },
      "execution_count": null,
      "outputs": [
        {
          "output_type": "stream",
          "name": "stdout",
          "text": [
            "No potential false urgency detected.\n"
          ]
        }
      ]
    },
    {
      "cell_type": "code",
      "source": [
        "import requests\n",
        "from bs4 import BeautifulSoup\n",
        "\n",
        "def detect_forced_action(url):\n",
        "    try:\n",
        "        response = requests.get(url)\n",
        "        response.raise_for_status()\n",
        "\n",
        "        soup = BeautifulSoup(response.content, 'html.parser')\n",
        "\n",
        "        # Example: Detect elements requiring user action without clear choice\n",
        "        forced_action_elements = soup.find_all(class_='forced-action-class')\n",
        "\n",
        "        if forced_action_elements:\n",
        "            print(\"Potential forced action detected - Elements requiring action found!\")\n",
        "        else:\n",
        "            print(\"No potential forced action detected.\")\n",
        "\n",
        "    except requests.exceptions.RequestException as e:\n",
        "        print(f\"Error: {e}\")\n",
        "\n",
        "# Example usage\n",
        "url_to_check = \"https://www.amazon.in/\"\n",
        "detect_forced_action(url_to_check)\n"
      ],
      "metadata": {
        "colab": {
          "base_uri": "https://localhost:8080/"
        },
        "id": "iNJT4dadzmQa",
        "outputId": "1566bfa5-1c8d-4040-d463-087f6bc5719d"
      },
      "execution_count": 2,
      "outputs": [
        {
          "output_type": "stream",
          "name": "stdout",
          "text": [
            "No potential forced action detected.\n"
          ]
        }
      ]
    },
    {
      "cell_type": "code",
      "source": [],
      "metadata": {
        "id": "HgsKwKnYzv_e"
      },
      "execution_count": null,
      "outputs": []
    }
  ]
}